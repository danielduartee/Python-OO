{
  "nbformat": 4,
  "nbformat_minor": 0,
  "metadata": {
    "colab": {
      "name": "Introdução a Collections",
      "provenance": [],
      "authorship_tag": "ABX9TyNLtzgiYhedJgnc8RK9MnZl",
      "include_colab_link": true
    },
    "kernelspec": {
      "name": "python3",
      "display_name": "Python 3"
    },
    "language_info": {
      "name": "python"
    }
  },
  "cells": [
    {
      "cell_type": "markdown",
      "metadata": {
        "id": "view-in-github",
        "colab_type": "text"
      },
      "source": [
        "<a href=\"https://colab.research.google.com/github/danielduartee/Python-OO/blob/main/Introdu%C3%A7%C3%A3o_a_Collections.ipynb\" target=\"_parent\"><img src=\"https://colab.research.google.com/assets/colab-badge.svg\" alt=\"Open In Colab\"/></a>"
      ]
    },
    {
      "cell_type": "code",
      "source": [
        "idades = [39, 30 ,27, 18]\n",
        "type(idades)"
      ],
      "metadata": {
        "colab": {
          "base_uri": "https://localhost:8080/"
        },
        "id": "6y63kwCBYhv_",
        "outputId": "96017db6-b248-460f-a43e-eda5c8ae13a5"
      },
      "execution_count": null,
      "outputs": [
        {
          "output_type": "execute_result",
          "data": {
            "text/plain": [
              "list"
            ]
          },
          "metadata": {},
          "execution_count": 7
        }
      ]
    },
    {
      "cell_type": "code",
      "source": [
        ""
      ],
      "metadata": {
        "id": "rU2ORSTx_2cc"
      },
      "execution_count": null,
      "outputs": []
    },
    {
      "cell_type": "code",
      "execution_count": null,
      "metadata": {
        "colab": {
          "base_uri": "https://localhost:8080/"
        },
        "id": "wAsvxBkyR78n",
        "outputId": "2e45c164-ccb3-44d6-ce2c-682c920370f3"
      },
      "outputs": [
        {
          "output_type": "stream",
          "name": "stdout",
          "text": [
            "39\n"
          ]
        }
      ],
      "source": [
        "idade1 = 39\n",
        "idade2 = 30\n",
        "idade3 = 27\n",
        "idade4 = 18\n",
        "\n",
        "print(idade1)"
      ]
    },
    {
      "cell_type": "code",
      "source": [
        "len(idades)"
      ],
      "metadata": {
        "colab": {
          "base_uri": "https://localhost:8080/"
        },
        "id": "ZDqS-resY6ix",
        "outputId": "10c62125-61a9-49ca-f066-25cca61073f7"
      },
      "execution_count": null,
      "outputs": [
        {
          "output_type": "execute_result",
          "data": {
            "text/plain": [
              "4"
            ]
          },
          "metadata": {},
          "execution_count": 8
        }
      ]
    },
    {
      "cell_type": "code",
      "source": [
        "idades[3]"
      ],
      "metadata": {
        "colab": {
          "base_uri": "https://localhost:8080/"
        },
        "id": "0W8ATpuzY_oD",
        "outputId": "9a8f3c4d-ef01-4a12-9dfd-bf1087513061"
      },
      "execution_count": null,
      "outputs": [
        {
          "output_type": "execute_result",
          "data": {
            "text/plain": [
              "18"
            ]
          },
          "metadata": {},
          "execution_count": 9
        }
      ]
    },
    {
      "cell_type": "code",
      "source": [
        "print(idades)"
      ],
      "metadata": {
        "colab": {
          "base_uri": "https://localhost:8080/"
        },
        "id": "HVsPenxdZCeP",
        "outputId": "a02f62c6-d2a2-4401-c386-f852b45e18cf"
      },
      "execution_count": null,
      "outputs": [
        {
          "output_type": "stream",
          "name": "stdout",
          "text": [
            "[39, 30, 27, 18]\n"
          ]
        }
      ]
    },
    {
      "cell_type": "code",
      "source": [
        "idades.append(15)"
      ],
      "metadata": {
        "id": "29BibuIwZKLY"
      },
      "execution_count": null,
      "outputs": []
    },
    {
      "cell_type": "code",
      "source": [
        "print(idades)"
      ],
      "metadata": {
        "colab": {
          "base_uri": "https://localhost:8080/"
        },
        "id": "13mnXg4oZRNH",
        "outputId": "92455b99-4aa2-4526-c9cc-7639c45dae0b"
      },
      "execution_count": null,
      "outputs": [
        {
          "output_type": "stream",
          "name": "stdout",
          "text": [
            "[39, 30, 27, 18, 15]\n"
          ]
        }
      ]
    },
    {
      "cell_type": "code",
      "source": [
        "idades.insert(3, 16)"
      ],
      "metadata": {
        "id": "ljmnfxBfZV0U"
      },
      "execution_count": null,
      "outputs": []
    },
    {
      "cell_type": "code",
      "source": [
        "print(idades)"
      ],
      "metadata": {
        "colab": {
          "base_uri": "https://localhost:8080/"
        },
        "id": "b-uayjCOZfZM",
        "outputId": "6614c73d-c7a1-49b2-bbcc-51dc22c90419"
      },
      "execution_count": null,
      "outputs": [
        {
          "output_type": "stream",
          "name": "stdout",
          "text": [
            "[39, 30, 27, 16, 18, 15]\n"
          ]
        }
      ]
    },
    {
      "cell_type": "code",
      "source": [
        "def faz_processamento_de_visualizacao(lista):\n",
        "  print(len(lista))\n",
        "  lista.append(13)"
      ],
      "metadata": {
        "id": "qjAJ5J7OlD0k"
      },
      "execution_count": null,
      "outputs": []
    },
    {
      "cell_type": "code",
      "source": [
        "idades = [16,21, 29,56, 43]\n",
        "faz_processamento_de_visualizacao(idades)\n",
        "idades"
      ],
      "metadata": {
        "colab": {
          "base_uri": "https://localhost:8080/"
        },
        "id": "WwOJmtiulb4H",
        "outputId": "735cddbe-0134-4aba-b031-13fbd9955ed7"
      },
      "execution_count": null,
      "outputs": [
        {
          "output_type": "stream",
          "name": "stdout",
          "text": [
            "5\n"
          ]
        },
        {
          "output_type": "execute_result",
          "data": {
            "text/plain": [
              "[16, 21, 29, 56, 43, 13]"
            ]
          },
          "metadata": {},
          "execution_count": 18
        }
      ]
    },
    {
      "cell_type": "code",
      "source": [
        "def faz_processamento_de_visualizacao(lista = None):\n",
        "    if lista == None:\n",
        "      lista = list()\n",
        "    print(len(list))\n",
        "    print(lista)\n",
        "    lista.append(13)"
      ],
      "metadata": {
        "id": "k7TOSfVulzF_"
      },
      "execution_count": null,
      "outputs": []
    },
    {
      "cell_type": "markdown",
      "source": [
        "# Objetos Próprios"
      ],
      "metadata": {
        "id": "T4BAZDSzoLTy"
      }
    },
    {
      "cell_type": "code",
      "source": [
        "class ContaCorrente:\n",
        "  def __init__(self, codigo):\n",
        "    self.codigo = codigo\n",
        "    self.saldo = 0\n",
        "\n",
        "  def deposita(self, valor):\n",
        "    self.saldo += valor\n",
        "\n",
        "  def __str__(self):\n",
        "    return \"[>>Codigo {} Saldo {}<<]\".format(self.codigo, self.saldo)"
      ],
      "metadata": {
        "id": "TuoNyjTJozUu"
      },
      "execution_count": 35,
      "outputs": []
    },
    {
      "cell_type": "code",
      "source": [
        "conta_do_dan = ContaCorrente(15)\n",
        "print(conta_do_dan)\n",
        " "
      ],
      "metadata": {
        "colab": {
          "base_uri": "https://localhost:8080/"
        },
        "id": "wHq_e9GcuNjC",
        "outputId": "81a2a69a-c90b-4ea7-fd24-4bb22262ce60"
      },
      "execution_count": 36,
      "outputs": [
        {
          "output_type": "stream",
          "name": "stdout",
          "text": [
            "[>>Codigo 15 Saldo 0<<]\n"
          ]
        }
      ]
    },
    {
      "cell_type": "code",
      "source": [
        "conta_do_dan.deposita(500)\n",
        "print(conta_do_dan)"
      ],
      "metadata": {
        "colab": {
          "base_uri": "https://localhost:8080/"
        },
        "id": "uj2llxejvXkl",
        "outputId": "dd4dc6c1-cc91-402f-e94f-f45e1fda01b7"
      },
      "execution_count": 37,
      "outputs": [
        {
          "output_type": "stream",
          "name": "stdout",
          "text": [
            "[>>Codigo 15 Saldo 500<<]\n"
          ]
        }
      ]
    },
    {
      "cell_type": "code",
      "source": [
        "conta_do_dani = ContaCorrente(7455)\n",
        "conta_do_dani.deposita(1000)\n",
        "print(conta_do_dani)"
      ],
      "metadata": {
        "colab": {
          "base_uri": "https://localhost:8080/"
        },
        "id": "vk5PY7OgvkQM",
        "outputId": "15acc093-c9ec-4507-9f72-b05f1323eb07"
      },
      "execution_count": 38,
      "outputs": [
        {
          "output_type": "stream",
          "name": "stdout",
          "text": [
            "[>>Codigo 7455 Saldo 1000<<]\n"
          ]
        }
      ]
    },
    {
      "cell_type": "code",
      "source": [
        "contas = [conta_do_dan, conta_do_dani]\n",
        "for conta in contas:\n",
        "  print(conta)"
      ],
      "metadata": {
        "colab": {
          "base_uri": "https://localhost:8080/"
        },
        "id": "V0nCp47tv3Xn",
        "outputId": "ba176b22-8e82-4bd3-e5f1-3c707fdca47d"
      },
      "execution_count": 39,
      "outputs": [
        {
          "output_type": "stream",
          "name": "stdout",
          "text": [
            "[>>Codigo 15 Saldo 500<<]\n",
            "[>>Codigo 7455 Saldo 1000<<]\n"
          ]
        }
      ]
    },
    {
      "cell_type": "code",
      "source": [
        "contas = [conta_do_dan, conta_do_dani]"
      ],
      "metadata": {
        "id": "1PpFi_sFwK7W"
      },
      "execution_count": 40,
      "outputs": []
    },
    {
      "cell_type": "code",
      "source": [
        "print(contas[0])"
      ],
      "metadata": {
        "colab": {
          "base_uri": "https://localhost:8080/"
        },
        "id": "FBttjJyQwaZ1",
        "outputId": "615e0479-2fd3-4166-9728-c16091b40881"
      },
      "execution_count": 41,
      "outputs": [
        {
          "output_type": "stream",
          "name": "stdout",
          "text": [
            "[>>Codigo 15 Saldo 500<<]\n"
          ]
        }
      ]
    },
    {
      "cell_type": "code",
      "source": [
        "class ContaCorrente:\n",
        "   def __init__(self, codigo):\n",
        "       self._codigo = codigo\n",
        "       self._saldo = 0\n",
        "\n",
        "   def __eq__(self, outro):\n",
        "       return self._codigo == outro._codigo\n",
        "\n",
        "   def deposita(self, valor):\n",
        "       self._saldo += valor \n",
        "\n",
        "   def __str__(self):\n",
        "     return \"[>>codigo {} Saldo {}<<]\".format(self._codigo, self._saldo) "
      ],
      "metadata": {
        "id": "S0Zk49V2_5Ny"
      },
      "execution_count": 42,
      "outputs": []
    },
    {
      "cell_type": "code",
      "source": [
        "conta_do_dan = ContaCorrente(15)\n",
        "conta_do_dani = ContaCorrente(15)\n",
        "conta_do_dan == conta_do_dani"
      ],
      "metadata": {
        "colab": {
          "base_uri": "https://localhost:8080/"
        },
        "id": "AAoYsRj_CnIa",
        "outputId": "687edb94-926a-4d61-e8f0-bee58f2c6261"
      },
      "execution_count": 43,
      "outputs": [
        {
          "output_type": "execute_result",
          "data": {
            "text/plain": [
              "True"
            ]
          },
          "metadata": {},
          "execution_count": 43
        }
      ]
    },
    {
      "cell_type": "code",
      "source": [
        "conta_do_dan != conta_do_dani"
      ],
      "metadata": {
        "colab": {
          "base_uri": "https://localhost:8080/"
        },
        "id": "hnwRjY93DOow",
        "outputId": "d763d899-59da-4005-ac80-2c9838916792"
      },
      "execution_count": 44,
      "outputs": [
        {
          "output_type": "execute_result",
          "data": {
            "text/plain": [
              "False"
            ]
          },
          "metadata": {},
          "execution_count": 44
        }
      ]
    },
    {
      "cell_type": "code",
      "source": [
        "conta_do_dan in [conta_do_dani]"
      ],
      "metadata": {
        "colab": {
          "base_uri": "https://localhost:8080/"
        },
        "id": "vBpyG7ZVDh3I",
        "outputId": "0c57f3c9-d04c-4a23-95e8-1c44221fa099"
      },
      "execution_count": 45,
      "outputs": [
        {
          "output_type": "execute_result",
          "data": {
            "text/plain": [
              "True"
            ]
          },
          "metadata": {},
          "execution_count": 45
        }
      ]
    },
    {
      "cell_type": "code",
      "source": [
        "conta_do_dani in [conta_do_dan]"
      ],
      "metadata": {
        "colab": {
          "base_uri": "https://localhost:8080/"
        },
        "id": "jghKgJabDn_D",
        "outputId": "41559230-f3b0-48f0-d86d-701726485338"
      },
      "execution_count": 46,
      "outputs": [
        {
          "output_type": "execute_result",
          "data": {
            "text/plain": [
              "True"
            ]
          },
          "metadata": {},
          "execution_count": 46
        }
      ]
    },
    {
      "cell_type": "code",
      "source": [
        "class ContaCorrente:\n",
        "   def __init__(self, codigo):\n",
        "       self._codigo = codigo\n",
        "       self._saldo = 0\n",
        "\n",
        "   def __eq__(self, outro):\n",
        "       return self._codigo == outro._codigo and self._saldo == outro._saldo\n",
        "\n",
        "   def deposita(self, valor):\n",
        "       self._saldo += valor \n",
        "\n",
        "   def __str__(self):\n",
        "     return \"[>>codigo {} Saldo {}<<]\".format(self._codigo, self._saldo) "
      ],
      "metadata": {
        "id": "wPkHqGQxDwl3"
      },
      "execution_count": 47,
      "outputs": []
    },
    {
      "cell_type": "code",
      "source": [
        "conta_do_dan = ContaCorrente(15)\n",
        "conta_do_dani = ContaCorrente(15)\n",
        "conta_do_dan == conta_do_dani"
      ],
      "metadata": {
        "colab": {
          "base_uri": "https://localhost:8080/"
        },
        "id": "P-hiqTZbD9t-",
        "outputId": "4944476f-4aee-4e05-cf56-80ce13969f83"
      },
      "execution_count": 48,
      "outputs": [
        {
          "output_type": "execute_result",
          "data": {
            "text/plain": [
              "True"
            ]
          },
          "metadata": {},
          "execution_count": 48
        }
      ]
    },
    {
      "cell_type": "code",
      "source": [
        "conta_do_dan.deposita(10)"
      ],
      "metadata": {
        "id": "qleIP8R4EBvR"
      },
      "execution_count": 49,
      "outputs": []
    },
    {
      "cell_type": "code",
      "source": [
        "conta_do_dan == conta_do_dani"
      ],
      "metadata": {
        "colab": {
          "base_uri": "https://localhost:8080/"
        },
        "id": "Xge3CWt9EO_z",
        "outputId": "86346bec-7a45-4ca9-ad62-448778f5a350"
      },
      "execution_count": 50,
      "outputs": [
        {
          "output_type": "execute_result",
          "data": {
            "text/plain": [
              "False"
            ]
          },
          "metadata": {},
          "execution_count": 50
        }
      ]
    },
    {
      "cell_type": "code",
      "source": [
        "class ContaCorrente:\n",
        "   def __init__(self, codigo):\n",
        "       self._codigo = codigo\n",
        "       self._saldo = 0\n",
        "\n",
        "   def __eq__(self, outro):\n",
        "     if type(outro) != ContaCorrente:\n",
        "       return False\n",
        "       \n",
        "       return self._codigo == outro._codigo and self._saldo == outro._saldo\n",
        "\n",
        "   def deposita(self, valor):\n",
        "       self._saldo += valor \n",
        "\n",
        "   def __str__(self):\n",
        "     return \"[>>codigo {} Saldo {}<<]\".format(self._codigo, self._saldo) "
      ],
      "metadata": {
        "id": "2DWPwqxXE1S-"
      },
      "execution_count": 51,
      "outputs": []
    },
    {
      "cell_type": "code",
      "source": [
        "conta_do_dan = ContaCorrente(15)\n",
        "conta_do_dani = ContaSalario(15)"
      ],
      "metadata": {
        "id": "_fAvipX0FOa1"
      },
      "execution_count": 52,
      "outputs": []
    },
    {
      "cell_type": "code",
      "source": [
        "conta_do_dan == conta_do_dani"
      ],
      "metadata": {
        "colab": {
          "base_uri": "https://localhost:8080/"
        },
        "id": "maVH4NsIFVf1",
        "outputId": "9e9cba67-32b2-4f59-cf64-e9e6959294a4"
      },
      "execution_count": 53,
      "outputs": [
        {
          "output_type": "execute_result",
          "data": {
            "text/plain": [
              "False"
            ]
          },
          "metadata": {},
          "execution_count": 53
        }
      ]
    },
    {
      "cell_type": "code",
      "source": [
        "isinstance(ContaSalario(13), ContaSalario)"
      ],
      "metadata": {
        "colab": {
          "base_uri": "https://localhost:8080/"
        },
        "id": "U7tYW_LUF8AL",
        "outputId": "f2fda39b-4e1d-4d57-d920-8a5d8c412bfc"
      },
      "execution_count": 55,
      "outputs": [
        {
          "output_type": "execute_result",
          "data": {
            "text/plain": [
              "True"
            ]
          },
          "metadata": {},
          "execution_count": 55
        }
      ]
    },
    {
      "cell_type": "code",
      "source": [
        "idades = [15, 87, 32, 65, 56, 32, 49, 37]\n",
        "\n",
        "for i in range(len(idades)):\n",
        "  print(i, idades[i])"
      ],
      "metadata": {
        "colab": {
          "base_uri": "https://localhost:8080/"
        },
        "id": "zBSQd5TAJrEE",
        "outputId": "34d82771-7e34-4b0a-da44-bb54c6ad7747"
      },
      "execution_count": 65,
      "outputs": [
        {
          "output_type": "stream",
          "name": "stdout",
          "text": [
            "0 15\n",
            "1 87\n",
            "2 32\n",
            "3 65\n",
            "4 56\n",
            "5 32\n",
            "6 49\n",
            "7 37\n"
          ]
        }
      ]
    },
    {
      "cell_type": "code",
      "source": [
        "range(len(idades)) # lazy..."
      ],
      "metadata": {
        "colab": {
          "base_uri": "https://localhost:8080/"
        },
        "id": "f-rha8_tJ8Eu",
        "outputId": "faeba953-590b-4bbb-ba82-c12b7df82d44"
      },
      "execution_count": 66,
      "outputs": [
        {
          "output_type": "execute_result",
          "data": {
            "text/plain": [
              "range(0, 8)"
            ]
          },
          "metadata": {},
          "execution_count": 66
        }
      ]
    },
    {
      "cell_type": "code",
      "source": [
        "enumerate(idades) # lazy..."
      ],
      "metadata": {
        "colab": {
          "base_uri": "https://localhost:8080/"
        },
        "id": "u4jy41XOLD8B",
        "outputId": "96d47114-a88f-479a-f74d-4a466ad65d45"
      },
      "execution_count": 67,
      "outputs": [
        {
          "output_type": "execute_result",
          "data": {
            "text/plain": [
              "<enumerate at 0x7fbbb2045d20>"
            ]
          },
          "metadata": {},
          "execution_count": 67
        }
      ]
    },
    {
      "cell_type": "code",
      "source": [
        "list(range(len(idades))) # forcei a geração de valores"
      ],
      "metadata": {
        "colab": {
          "base_uri": "https://localhost:8080/"
        },
        "id": "FfSHBGrKLKVW",
        "outputId": "6247326a-6021-4f5f-bf51-0b997619fada"
      },
      "execution_count": 69,
      "outputs": [
        {
          "output_type": "execute_result",
          "data": {
            "text/plain": [
              "[0, 1, 2, 3, 4, 5, 6, 7]"
            ]
          },
          "metadata": {},
          "execution_count": 69
        }
      ]
    },
    {
      "cell_type": "code",
      "source": [
        "list(enumerate(idades))"
      ],
      "metadata": {
        "colab": {
          "base_uri": "https://localhost:8080/"
        },
        "id": "Y3xEugZILsFG",
        "outputId": "1582e806-753c-4119-d0b9-98d509cf6ad6"
      },
      "execution_count": 70,
      "outputs": [
        {
          "output_type": "execute_result",
          "data": {
            "text/plain": [
              "[(0, 15), (1, 87), (2, 32), (3, 65), (4, 56), (5, 32), (6, 49), (7, 37)]"
            ]
          },
          "metadata": {},
          "execution_count": 70
        }
      ]
    },
    {
      "cell_type": "code",
      "source": [
        "for indice, idade  in enumerate(idades):\n",
        "  print(indice, \"x\", idade)"
      ],
      "metadata": {
        "colab": {
          "base_uri": "https://localhost:8080/"
        },
        "id": "4KzXDhJeLxDm",
        "outputId": "6ca052bf-f796-4c5e-c46d-1ca4756018b0"
      },
      "execution_count": 72,
      "outputs": [
        {
          "output_type": "stream",
          "name": "stdout",
          "text": [
            "0 x 15\n",
            "1 x 87\n",
            "2 x 32\n",
            "3 x 65\n",
            "4 x 56\n",
            "5 x 32\n",
            "6 x 49\n",
            "7 x 37\n"
          ]
        }
      ]
    },
    {
      "cell_type": "code",
      "source": [
        "usuarios = [\n",
        "            (\"Daniel\", 30, 1992),\n",
        "            (\"Olivia\", 4, 2018),\n",
        "            (\"Luciano\", 35, 1987)\n",
        "]\n",
        "\n",
        "for nome, idade, nascimento in usuarios:\n",
        "  print(nome)"
      ],
      "metadata": {
        "colab": {
          "base_uri": "https://localhost:8080/"
        },
        "id": "dIz52RgYMcD6",
        "outputId": "c8fb4ee8-a3a0-4064-de6b-930ecd14411f"
      },
      "execution_count": 73,
      "outputs": [
        {
          "output_type": "stream",
          "name": "stdout",
          "text": [
            "Daniel\n",
            "Olivia\n",
            "Luciano\n"
          ]
        }
      ]
    },
    {
      "cell_type": "code",
      "source": [
        "for nome, _, _ in usuarios:\n",
        "  print(nome)"
      ],
      "metadata": {
        "colab": {
          "base_uri": "https://localhost:8080/"
        },
        "id": "kqOnyq3FQ9Gw",
        "outputId": "212fc544-e384-4caa-c5e4-81ae69a5986a"
      },
      "execution_count": 74,
      "outputs": [
        {
          "output_type": "stream",
          "name": "stdout",
          "text": [
            "Daniel\n",
            "Olivia\n",
            "Luciano\n"
          ]
        }
      ]
    },
    {
      "cell_type": "code",
      "source": [
        "idades"
      ],
      "metadata": {
        "colab": {
          "base_uri": "https://localhost:8080/"
        },
        "id": "EZjGj8xdSdzR",
        "outputId": "046722ce-b89b-4d54-d071-14185cdeb245"
      },
      "execution_count": 75,
      "outputs": [
        {
          "output_type": "execute_result",
          "data": {
            "text/plain": [
              "[15, 87, 32, 65, 56, 32, 49, 37]"
            ]
          },
          "metadata": {},
          "execution_count": 75
        }
      ]
    },
    {
      "cell_type": "code",
      "source": [
        "sorted(idades)"
      ],
      "metadata": {
        "colab": {
          "base_uri": "https://localhost:8080/"
        },
        "id": "MdblLIpgSfyV",
        "outputId": "a73e3f23-6fae-47c5-a106-4d7cc99b74fa"
      },
      "execution_count": 76,
      "outputs": [
        {
          "output_type": "execute_result",
          "data": {
            "text/plain": [
              "[15, 32, 32, 37, 49, 56, 65, 87]"
            ]
          },
          "metadata": {},
          "execution_count": 76
        }
      ]
    },
    {
      "cell_type": "code",
      "source": [
        "15 < 32"
      ],
      "metadata": {
        "colab": {
          "base_uri": "https://localhost:8080/"
        },
        "id": "v6wAboYQSk08",
        "outputId": "09edeafa-c15a-4f23-b76f-eb279f0347e9"
      },
      "execution_count": 77,
      "outputs": [
        {
          "output_type": "execute_result",
          "data": {
            "text/plain": [
              "True"
            ]
          },
          "metadata": {},
          "execution_count": 77
        }
      ]
    },
    {
      "cell_type": "code",
      "source": [
        "list(reversed(idades))"
      ],
      "metadata": {
        "colab": {
          "base_uri": "https://localhost:8080/"
        },
        "id": "DkUhfZxoSneC",
        "outputId": "c2c19533-8d25-48c9-fcf3-75944819589d"
      },
      "execution_count": 78,
      "outputs": [
        {
          "output_type": "execute_result",
          "data": {
            "text/plain": [
              "[37, 49, 32, 56, 65, 32, 87, 15]"
            ]
          },
          "metadata": {},
          "execution_count": 78
        }
      ]
    },
    {
      "cell_type": "code",
      "source": [
        "sorted(idades, reverse=True)"
      ],
      "metadata": {
        "colab": {
          "base_uri": "https://localhost:8080/"
        },
        "id": "e2gE10XMSwXE",
        "outputId": "d233afb7-e84b-46b6-e8c9-9a54cf88745d"
      },
      "execution_count": 79,
      "outputs": [
        {
          "output_type": "execute_result",
          "data": {
            "text/plain": [
              "[87, 65, 56, 49, 37, 32, 32, 15]"
            ]
          },
          "metadata": {},
          "execution_count": 79
        }
      ]
    },
    {
      "cell_type": "code",
      "source": [
        "list(reversed(sorted(idades)))"
      ],
      "metadata": {
        "colab": {
          "base_uri": "https://localhost:8080/"
        },
        "id": "4iNVAk15S5Tn",
        "outputId": "ae3fc255-0bde-484f-e515-79918cc3f2fd"
      },
      "execution_count": 82,
      "outputs": [
        {
          "output_type": "execute_result",
          "data": {
            "text/plain": [
              "[87, 65, 56, 49, 37, 32, 32, 15]"
            ]
          },
          "metadata": {},
          "execution_count": 82
        }
      ]
    },
    {
      "cell_type": "code",
      "source": [
        "idades"
      ],
      "metadata": {
        "colab": {
          "base_uri": "https://localhost:8080/"
        },
        "id": "Ze9OfGr4TErs",
        "outputId": "440c546e-1f49-4641-e645-11ba16754ed8"
      },
      "execution_count": 83,
      "outputs": [
        {
          "output_type": "execute_result",
          "data": {
            "text/plain": [
              "[15, 87, 32, 65, 56, 32, 49, 37]"
            ]
          },
          "metadata": {},
          "execution_count": 83
        }
      ]
    },
    {
      "cell_type": "code",
      "source": [
        "15 < 32"
      ],
      "metadata": {
        "colab": {
          "base_uri": "https://localhost:8080/"
        },
        "id": "yd991MP-c50M",
        "outputId": "2f032bf0-577c-4d71-9a36-d6be5a225b73"
      },
      "execution_count": 84,
      "outputs": [
        {
          "output_type": "execute_result",
          "data": {
            "text/plain": [
              "True"
            ]
          },
          "metadata": {},
          "execution_count": 84
        }
      ]
    },
    {
      "cell_type": "code",
      "source": [
        "nomes = [\"daniel\", \"Olivia\", \"Luciano\"]\n",
        "sorted(nomes)"
      ],
      "metadata": {
        "colab": {
          "base_uri": "https://localhost:8080/"
        },
        "id": "bobdXduMc_tP",
        "outputId": "c45bf4da-a928-4bd3-9e9b-c2a08ad294fb"
      },
      "execution_count": 85,
      "outputs": [
        {
          "output_type": "execute_result",
          "data": {
            "text/plain": [
              "['Luciano', 'Olivia', 'daniel']"
            ]
          },
          "metadata": {},
          "execution_count": 85
        }
      ]
    },
    {
      "cell_type": "code",
      "source": [
        "class ContaCorrente:\n",
        "   def __init__(self, codigo):\n",
        "       self._codigo = codigo\n",
        "       self._saldo = 0\n",
        "\n",
        "   def __eq__(self, outro):\n",
        "     if type(outro) != ContaCorrente:\n",
        "       return False\n",
        "       \n",
        "       return self._codigo == outro._codigo and self._saldo == outro._saldo\n",
        "\n",
        "   def deposita(self, valor):\n",
        "       self._saldo += valor \n",
        "\n",
        "   def __str__(self):\n",
        "     return \"[>>codigo {} Saldo {}<<]\".format(self._codigo, self._saldo)"
      ],
      "metadata": {
        "id": "k3kI3qCadRWq"
      },
      "execution_count": 86,
      "outputs": []
    },
    {
      "cell_type": "code",
      "source": [
        "conta_do_daniel = ContaCorrente(15)\n",
        "conta_do_daniel.deposita(500)\n",
        "\n",
        "conta_da_olivia = ContaCorrente(15)\n",
        "conta_da_olivia.deposita(1000)\n",
        "\n",
        "conta_do_luciano = ContaCorrente(15)\n",
        "conta_do_luciano.deposita(510)\n",
        "\n",
        "contas = [conta_do_daniel, conta_da_olivia, conta_do_luciano]\n"
      ],
      "metadata": {
        "id": "KSpkodHkdhjo"
      },
      "execution_count": 87,
      "outputs": []
    },
    {
      "cell_type": "code",
      "source": [
        "for conta in contas:\n",
        "  print(conta)"
      ],
      "metadata": {
        "colab": {
          "base_uri": "https://localhost:8080/"
        },
        "id": "kXQ-0dBKg3HQ",
        "outputId": "3535bd76-aba2-403b-d9a1-84432df3c604"
      },
      "execution_count": 91,
      "outputs": [
        {
          "output_type": "stream",
          "name": "stdout",
          "text": [
            "[>>codigo 15 Saldo 500<<]\n",
            "[>>codigo 15 Saldo 1000<<]\n",
            "[>>codigo 15 Saldo 510<<]\n"
          ]
        }
      ]
    },
    {
      "cell_type": "code",
      "source": [
        "def extrai_saldo(conta):\n",
        "  return conta._saldo\n",
        "\n",
        "for conta in sorted(contas, key=extrai_saldo):\n",
        "  print(conta)"
      ],
      "metadata": {
        "colab": {
          "base_uri": "https://localhost:8080/"
        },
        "id": "4zXTfb1cj6FR",
        "outputId": "5a7893ba-b030-40fb-ed67-a224a86a9c3b"
      },
      "execution_count": 94,
      "outputs": [
        {
          "output_type": "stream",
          "name": "stdout",
          "text": [
            "[>>codigo 15 Saldo 500<<]\n",
            "[>>codigo 15 Saldo 510<<]\n",
            "[>>codigo 15 Saldo 1000<<]\n"
          ]
        }
      ]
    },
    {
      "cell_type": "code",
      "source": [
        "from operator import attrgetter\n",
        "\n",
        "for conta in sorted(contas, key=attrgetter(\"_saldo\")):\n",
        "  print(conta)"
      ],
      "metadata": {
        "colab": {
          "base_uri": "https://localhost:8080/"
        },
        "id": "WVn8jTwhlnCJ",
        "outputId": "c45a84b6-ccde-4e30-daa2-26007db43218"
      },
      "execution_count": 95,
      "outputs": [
        {
          "output_type": "stream",
          "name": "stdout",
          "text": [
            "[>>codigo 15 Saldo 500<<]\n",
            "[>>codigo 15 Saldo 510<<]\n",
            "[>>codigo 15 Saldo 1000<<]\n"
          ]
        }
      ]
    },
    {
      "cell_type": "code",
      "source": [
        "class ContaCorrente:\n",
        "   def __init__(self, codigo):\n",
        "       self._codigo = codigo\n",
        "       self._saldo = 0\n",
        "\n",
        "   def __eq__(self, outro):\n",
        "     if type(outro) != ContaCorrente:\n",
        "       return False\n",
        "       \n",
        "       return self._codigo == outro._codigo and self._saldo == outro._saldo\n",
        "\n",
        "   def __lt__(self, outro):\n",
        "     return self._saldo < outro._saldo\n",
        "\n",
        "   def deposita(self, valor):\n",
        "       self._saldo += valor \n",
        "\n",
        "   def __str__(self):\n",
        "     return \"[>>codigo {} Saldo {}<<]\".format(self._codigo, self._saldo)"
      ],
      "metadata": {
        "id": "sqpR2yXTnZJk"
      },
      "execution_count": 99,
      "outputs": []
    },
    {
      "cell_type": "code",
      "source": [
        "conta_do_daniel = ContaCorrente(15)\n",
        "conta_do_daniel.deposita(500)\n",
        "\n",
        "conta_da_olivia = ContaCorrente(15)\n",
        "conta_da_olivia.deposita(1000)\n",
        "\n",
        "conta_do_luciano = ContaCorrente(15)\n",
        "conta_do_luciano.deposita(510)\n",
        "\n",
        "contas = [conta_do_daniel, conta_da_olivia, conta_do_luciano]\n"
      ],
      "metadata": {
        "id": "h_XfC3_VoCba"
      },
      "execution_count": 101,
      "outputs": []
    },
    {
      "cell_type": "code",
      "source": [
        "conta_da_olivia < conta_do_luciano"
      ],
      "metadata": {
        "colab": {
          "base_uri": "https://localhost:8080/"
        },
        "id": "YvvWzua8oE7U",
        "outputId": "406e0e58-0b23-441d-9299-07940f344809"
      },
      "execution_count": 102,
      "outputs": [
        {
          "output_type": "execute_result",
          "data": {
            "text/plain": [
              "False"
            ]
          },
          "metadata": {},
          "execution_count": 102
        }
      ]
    },
    {
      "cell_type": "code",
      "source": [
        "conta_do_luciano < conta_da_olivia"
      ],
      "metadata": {
        "colab": {
          "base_uri": "https://localhost:8080/"
        },
        "id": "6zFGNACJobFu",
        "outputId": "cceca3d4-9b00-441c-c6b7-76864e1b3eb7"
      },
      "execution_count": 103,
      "outputs": [
        {
          "output_type": "execute_result",
          "data": {
            "text/plain": [
              "True"
            ]
          },
          "metadata": {},
          "execution_count": 103
        }
      ]
    },
    {
      "cell_type": "code",
      "source": [
        "sorted(contas)"
      ],
      "metadata": {
        "colab": {
          "base_uri": "https://localhost:8080/"
        },
        "id": "f49BGxWOohLt",
        "outputId": "9bae5206-aca3-436e-909f-9c844ea6a0a5"
      },
      "execution_count": 104,
      "outputs": [
        {
          "output_type": "execute_result",
          "data": {
            "text/plain": [
              "[<__main__.ContaCorrente at 0x7fbbb2016710>,\n",
              " <__main__.ContaCorrente at 0x7fbbb2016110>,\n",
              " <__main__.ContaCorrente at 0x7fbbb20163d0>]"
            ]
          },
          "metadata": {},
          "execution_count": 104
        }
      ]
    },
    {
      "cell_type": "code",
      "source": [
        "for conta in sorted(contas):\n",
        " print(conta)"
      ],
      "metadata": {
        "colab": {
          "base_uri": "https://localhost:8080/"
        },
        "id": "pO1WmAZ0ooSZ",
        "outputId": "a74a7bfa-707f-4154-f0b1-db4eab4c3983"
      },
      "execution_count": 107,
      "outputs": [
        {
          "output_type": "stream",
          "name": "stdout",
          "text": [
            "[>>codigo 15 Saldo 500<<]\n",
            "[>>codigo 15 Saldo 510<<]\n",
            "[>>codigo 15 Saldo 1000<<]\n"
          ]
        }
      ]
    },
    {
      "cell_type": "code",
      "source": [
        "for conta in sorted(contas, reverse=True):\n",
        " print(conta)"
      ],
      "metadata": {
        "colab": {
          "base_uri": "https://localhost:8080/"
        },
        "id": "QhN4bmPso3JL",
        "outputId": "9b40c1af-ef71-49b3-ce9b-bd21fcd98c6b"
      },
      "execution_count": 110,
      "outputs": [
        {
          "output_type": "stream",
          "name": "stdout",
          "text": [
            "[>>codigo 15 Saldo 1000<<]\n",
            "[>>codigo 15 Saldo 510<<]\n",
            "[>>codigo 15 Saldo 500<<]\n"
          ]
        }
      ]
    },
    {
      "cell_type": "code",
      "source": [
        "conta_do_daniel = ContaCorrente(150)\n",
        "conta_do_daniel.deposita(500)\n",
        "\n",
        "conta_da_olivia = ContaCorrente(15)\n",
        "conta_da_olivia.deposita(1000)\n",
        "\n",
        "conta_do_luciano = ContaCorrente(100)\n",
        "conta_do_luciano.deposita(500)\n",
        "\n",
        "contas = [conta_do_daniel, conta_da_olivia, conta_do_luciano]"
      ],
      "metadata": {
        "id": "dRKknEN8ooJ0"
      },
      "execution_count": 111,
      "outputs": []
    },
    {
      "cell_type": "code",
      "source": [
        "for conta in sorted(contas, key=attrgetter(\"_saldo\", \"_codigo\")):\n",
        "    print (conta)"
      ],
      "metadata": {
        "colab": {
          "base_uri": "https://localhost:8080/"
        },
        "id": "D6zOphVfsWt-",
        "outputId": "54d7f9df-8e44-415c-c445-4af73fe8e484"
      },
      "execution_count": 112,
      "outputs": [
        {
          "output_type": "stream",
          "name": "stdout",
          "text": [
            "[>>codigo 100 Saldo 500<<]\n",
            "[>>codigo 150 Saldo 500<<]\n",
            "[>>codigo 15 Saldo 1000<<]\n"
          ]
        }
      ]
    },
    {
      "cell_type": "code",
      "source": [
        "class ContaCorrente:\n",
        "   def __init__(self, codigo):\n",
        "       self._codigo = codigo\n",
        "       self._saldo = 0\n",
        "\n",
        "   def __eq__(self, outro):\n",
        "     if type(outro) != ContaCorrente:\n",
        "       return False\n",
        "       \n",
        "       return self._codigo == outro._codigo and self._saldo == outro._saldo\n",
        "\n",
        "   def __lt__(self, outro):\n",
        "     if self._saldo != outro._saldo:\n",
        "      return self._saldo < outro._saldo\n",
        "\n",
        "   def deposita(self, valor):\n",
        "       self._saldo += valor \n",
        "\n",
        "   def __str__(self):\n",
        "     return \"[>>codigo {} Saldo {}<<]\".format(self._codigo, self._saldo)"
      ],
      "metadata": {
        "id": "n748MAk7s7Y5"
      },
      "execution_count": 113,
      "outputs": []
    },
    {
      "cell_type": "code",
      "source": [
        "conta_do_daniel = ContaCorrente(150)\n",
        "conta_do_daniel.deposita(500)\n",
        "\n",
        "conta_da_olivia = ContaCorrente(15)\n",
        "conta_da_olivia.deposita(1000)\n",
        "\n",
        "conta_do_luciano = ContaCorrente(100)\n",
        "conta_do_luciano.deposita(500)\n",
        "\n",
        "contas = [conta_do_daniel, conta_da_olivia, conta_do_luciano]"
      ],
      "metadata": {
        "id": "Jg8HfMxdtUSO"
      },
      "execution_count": 114,
      "outputs": []
    },
    {
      "cell_type": "code",
      "source": [
        "for conta in sorted(contas):\n",
        "   print(conta)"
      ],
      "metadata": {
        "colab": {
          "base_uri": "https://localhost:8080/"
        },
        "id": "eeSbfy3OtVrv",
        "outputId": "72ab6fa2-7be5-4bd9-ce14-f828dc8ce7ce"
      },
      "execution_count": 115,
      "outputs": [
        {
          "output_type": "stream",
          "name": "stdout",
          "text": [
            "[>>codigo 150 Saldo 500<<]\n",
            "[>>codigo 100 Saldo 500<<]\n",
            "[>>codigo 15 Saldo 1000<<]\n"
          ]
        }
      ]
    },
    {
      "cell_type": "code",
      "source": [
        "conta_do_daniel < conta_da_olivia"
      ],
      "metadata": {
        "colab": {
          "base_uri": "https://localhost:8080/"
        },
        "id": "Jn-Hio58uWwM",
        "outputId": "1dc05d71-bc5b-46d1-f0a2-b0de288afdf6"
      },
      "execution_count": 116,
      "outputs": [
        {
          "output_type": "execute_result",
          "data": {
            "text/plain": [
              "True"
            ]
          },
          "metadata": {},
          "execution_count": 116
        }
      ]
    },
    {
      "cell_type": "code",
      "source": [
        "from functools import total_ordering\n",
        "\n",
        "@total_ordering\n",
        "class ContaCorrente:\n",
        "   def __init__(self, codigo):\n",
        "       self._codigo = codigo\n",
        "       self._saldo = 0\n",
        "\n",
        "   def __eq__(self, outro):\n",
        "     if type(outro) != ContaCorrente:\n",
        "       return False\n",
        "       \n",
        "       return self._codigo == outro._codigo and self._saldo == outro._saldo\n",
        "\n",
        "   def __lt__(self, outro):\n",
        "     if self._saldo != outro._saldo:\n",
        "      return self._saldo < outro._saldo\n",
        "\n",
        "   \n",
        "\n",
        "   def deposita(self, valor):\n",
        "       self._saldo += valor \n",
        "\n",
        "   def __str__(self):\n",
        "     return \"[>>codigo {} Saldo {}<<]\".format(self._codigo, self._saldo)"
      ],
      "metadata": {
        "id": "UfReCPmSuc6o"
      },
      "execution_count": 117,
      "outputs": []
    },
    {
      "cell_type": "code",
      "source": [
        "conta_do_daniel = ContaCorrente(150)\n",
        "conta_do_daniel.deposita(500)\n",
        "\n",
        "conta_da_olivia = ContaCorrente(15)\n",
        "conta_da_olivia.deposita(1000)\n",
        "\n",
        "conta_do_luciano = ContaCorrente(100)\n",
        "conta_do_luciano.deposita(500)\n",
        "\n",
        "contas = [conta_do_daniel, conta_da_olivia, conta_do_luciano]"
      ],
      "metadata": {
        "id": "5O3SgHiUvgf0"
      },
      "execution_count": 118,
      "outputs": []
    },
    {
      "cell_type": "code",
      "source": [
        "conta_do_daniel <= conta_da_olivia"
      ],
      "metadata": {
        "colab": {
          "base_uri": "https://localhost:8080/"
        },
        "id": "sPbaeBa6vhmD",
        "outputId": "e5cef63d-ea5d-4fbb-ae16-b950b2e3ae64"
      },
      "execution_count": 119,
      "outputs": [
        {
          "output_type": "execute_result",
          "data": {
            "text/plain": [
              "True"
            ]
          },
          "metadata": {},
          "execution_count": 119
        }
      ]
    },
    {
      "cell_type": "code",
      "source": [
        "conta_do_daniel <= conta_do_luciano"
      ],
      "metadata": {
        "id": "lqEOnbp3vocy"
      },
      "execution_count": 122,
      "outputs": []
    },
    {
      "cell_type": "code",
      "source": [
        "conta_do_luciano <= conta_do_daniel"
      ],
      "metadata": {
        "id": "--3a5xcuv0Rh"
      },
      "execution_count": 123,
      "outputs": []
    },
    {
      "cell_type": "code",
      "source": [
        "conta_do_luciano == conta_do_daniel"
      ],
      "metadata": {
        "id": "0mviTDCcv-_W"
      },
      "execution_count": 124,
      "outputs": []
    }
  ]
}