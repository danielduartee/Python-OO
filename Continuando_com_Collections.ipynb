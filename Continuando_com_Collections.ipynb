{
  "nbformat": 4,
  "nbformat_minor": 0,
  "metadata": {
    "colab": {
      "name": "Continuando com Collections",
      "provenance": [],
      "authorship_tag": "ABX9TyN9qFJCuRbziKQCJ4Vxlzr0",
      "include_colab_link": true
    },
    "kernelspec": {
      "name": "python3",
      "display_name": "Python 3"
    },
    "language_info": {
      "name": "python"
    }
  },
  "cells": [
    {
      "cell_type": "markdown",
      "metadata": {
        "id": "view-in-github",
        "colab_type": "text"
      },
      "source": [
        "<a href=\"https://colab.research.google.com/github/danielduartee/Python-OO/blob/main/Continuando_com_Collections.ipynb\" target=\"_parent\"><img src=\"https://colab.research.google.com/assets/colab-badge.svg\" alt=\"Open In Colab\"/></a>"
      ]
    },
    {
      "cell_type": "code",
      "execution_count": 3,
      "metadata": {
        "id": "ApIjXkexyro5"
      },
      "outputs": [],
      "source": [
        "usuarios_data_science = [15, 23, 43, 56]\n",
        "usuarios_machine_learning = [13, 23, 56, 42]"
      ]
    },
    {
      "cell_type": "code",
      "source": [
        "assistiram = usuarios_data_science.copy()\n",
        "assistiram.extend(usuarios_machine_learning)\n",
        "assistiram"
      ],
      "metadata": {
        "colab": {
          "base_uri": "https://localhost:8080/"
        },
        "id": "u0TdVkRZzvO6",
        "outputId": "6d6f8c1e-8451-461a-b9e5-0a8c1ea69afc"
      },
      "execution_count": 4,
      "outputs": [
        {
          "output_type": "execute_result",
          "data": {
            "text/plain": [
              "[15, 23, 43, 56, 13, 23, 56, 42]"
            ]
          },
          "metadata": {},
          "execution_count": 4
        }
      ]
    },
    {
      "cell_type": "code",
      "source": [
        "len(assistiram)"
      ],
      "metadata": {
        "colab": {
          "base_uri": "https://localhost:8080/"
        },
        "id": "v_xg-kBS0aEo",
        "outputId": "a9d25077-31fe-42c4-ae62-9bc18cbe33d8"
      },
      "execution_count": 5,
      "outputs": [
        {
          "output_type": "execute_result",
          "data": {
            "text/plain": [
              "8"
            ]
          },
          "metadata": {},
          "execution_count": 5
        }
      ]
    },
    {
      "cell_type": "code",
      "source": [
        "set(assistiram) # não possui elementos repetidos "
      ],
      "metadata": {
        "colab": {
          "base_uri": "https://localhost:8080/"
        },
        "id": "Rcv_c_k800ZX",
        "outputId": "7beaaf3f-da6e-48a0-d3e4-34a48a6bf6a2"
      },
      "execution_count": 6,
      "outputs": [
        {
          "output_type": "execute_result",
          "data": {
            "text/plain": [
              "{13, 15, 23, 42, 43, 56}"
            ]
          },
          "metadata": {},
          "execution_count": 6
        }
      ]
    },
    {
      "cell_type": "code",
      "source": [
        "set([1, 2, 3])"
      ],
      "metadata": {
        "colab": {
          "base_uri": "https://localhost:8080/"
        },
        "id": "3imyVUL609tD",
        "outputId": "5f44f7ff-2080-4a70-e916-4c85eae4b0b7"
      },
      "execution_count": 9,
      "outputs": [
        {
          "output_type": "execute_result",
          "data": {
            "text/plain": [
              "{1, 2, 3}"
            ]
          },
          "metadata": {},
          "execution_count": 9
        }
      ]
    },
    {
      "cell_type": "code",
      "source": [
        "type ({1, 2})"
      ],
      "metadata": {
        "colab": {
          "base_uri": "https://localhost:8080/"
        },
        "id": "ZpGGlALa15g9",
        "outputId": "b65042af-4f1e-4d30-e1e4-b11c311f197a"
      },
      "execution_count": 11,
      "outputs": [
        {
          "output_type": "execute_result",
          "data": {
            "text/plain": [
              "set"
            ]
          },
          "metadata": {},
          "execution_count": 11
        }
      ]
    },
    {
      "cell_type": "code",
      "source": [
        "usuarios_data_science = {15, 23, 43, 56}\n",
        "usuarios_machine_learning = {13, 23, 56, 42}"
      ],
      "metadata": {
        "id": "87GaLNgi2Haf"
      },
      "execution_count": 15,
      "outputs": []
    },
    {
      "cell_type": "code",
      "source": [
        "usuarios_machine_learning [3] # na lista [] não existe ordem, diferente do conjunto {}"
      ],
      "metadata": {
        "colab": {
          "base_uri": "https://localhost:8080/",
          "height": 165
        },
        "id": "2gN9n5bD2Sfr",
        "outputId": "669e032c-e969-4fb3-b613-bc5f75c52d2e"
      },
      "execution_count": 13,
      "outputs": [
        {
          "output_type": "error",
          "ename": "TypeError",
          "evalue": "ignored",
          "traceback": [
            "\u001b[0;31m---------------------------------------------------------------------------\u001b[0m",
            "\u001b[0;31mTypeError\u001b[0m                                 Traceback (most recent call last)",
            "\u001b[0;32m<ipython-input-13-9be05bdc2466>\u001b[0m in \u001b[0;36m<module>\u001b[0;34m()\u001b[0m\n\u001b[0;32m----> 1\u001b[0;31m \u001b[0musuarios_machine_learning\u001b[0m \u001b[0;34m[\u001b[0m\u001b[0;36m3\u001b[0m\u001b[0;34m]\u001b[0m\u001b[0;34m\u001b[0m\u001b[0;34m\u001b[0m\u001b[0m\n\u001b[0m",
            "\u001b[0;31mTypeError\u001b[0m: 'set' object is not subscriptable"
          ]
        }
      ]
    },
    {
      "cell_type": "code",
      "source": [
        "for usuario in set (assistiram):\n",
        "  print(usuario)"
      ],
      "metadata": {
        "colab": {
          "base_uri": "https://localhost:8080/"
        },
        "id": "ca4QmAkV2aXq",
        "outputId": "a8d757ea-c308-4d0e-a1c1-2c8a85bc80c4"
      },
      "execution_count": 17,
      "outputs": [
        {
          "output_type": "stream",
          "name": "stdout",
          "text": [
            "42\n",
            "43\n",
            "13\n",
            "15\n",
            "23\n",
            "56\n"
          ]
        }
      ]
    },
    {
      "cell_type": "code",
      "source": [
        "usuarios_data_science = {15, 23, 43, 56}\n",
        "usuarios_machine_learning = {13, 23, 56, 42}"
      ],
      "metadata": {
        "id": "30lqaOCn21SW"
      },
      "execution_count": 18,
      "outputs": []
    },
    {
      "cell_type": "code",
      "source": [
        "usuarios_data_science | usuarios_machine_learning  "
      ],
      "metadata": {
        "colab": {
          "base_uri": "https://localhost:8080/"
        },
        "id": "ylpP7IbL3Cgm",
        "outputId": "e2204992-e35a-4586-f424-68e1e0715f4d"
      },
      "execution_count": 19,
      "outputs": [
        {
          "output_type": "execute_result",
          "data": {
            "text/plain": [
              "{13, 15, 23, 42, 43, 56}"
            ]
          },
          "metadata": {},
          "execution_count": 19
        }
      ]
    },
    {
      "cell_type": "code",
      "source": [
        "usuarios_data_science & usuarios_machine_learning "
      ],
      "metadata": {
        "colab": {
          "base_uri": "https://localhost:8080/"
        },
        "id": "dGRa3Tyx3djT",
        "outputId": "582bf945-9e9d-4703-c389-5f846a05d8df"
      },
      "execution_count": 20,
      "outputs": [
        {
          "output_type": "execute_result",
          "data": {
            "text/plain": [
              "{23, 56}"
            ]
          },
          "metadata": {},
          "execution_count": 20
        }
      ]
    },
    {
      "cell_type": "code",
      "source": [
        "usuarios_data_science - usuarios_machine_learning "
      ],
      "metadata": {
        "colab": {
          "base_uri": "https://localhost:8080/"
        },
        "id": "oEuVaOND3hHB",
        "outputId": "156ae246-52b7-499a-a84b-7f7d0847725d"
      },
      "execution_count": 21,
      "outputs": [
        {
          "output_type": "execute_result",
          "data": {
            "text/plain": [
              "{15, 43}"
            ]
          },
          "metadata": {},
          "execution_count": 21
        }
      ]
    },
    {
      "cell_type": "code",
      "source": [
        "fez_ds_mas_nao_fez_ml = usuarios_data_science - usuarios_machine_learning \n",
        "15 in fez_ds_mas_nao_fez_ml "
      ],
      "metadata": {
        "colab": {
          "base_uri": "https://localhost:8080/"
        },
        "id": "gj9amdJq4FaD",
        "outputId": "59acdccb-dd77-4a6f-a4a8-6202f5700522"
      },
      "execution_count": 22,
      "outputs": [
        {
          "output_type": "execute_result",
          "data": {
            "text/plain": [
              "True"
            ]
          },
          "metadata": {},
          "execution_count": 22
        }
      ]
    },
    {
      "cell_type": "code",
      "source": [
        "23 in fez_ds_mas_nao_fez_ml "
      ],
      "metadata": {
        "colab": {
          "base_uri": "https://localhost:8080/"
        },
        "id": "ogpr0wOA4XZ8",
        "outputId": "dc183d98-9439-4672-bd60-e276749f7638"
      },
      "execution_count": 23,
      "outputs": [
        {
          "output_type": "execute_result",
          "data": {
            "text/plain": [
              "False"
            ]
          },
          "metadata": {},
          "execution_count": 23
        }
      ]
    },
    {
      "cell_type": "code",
      "source": [
        "usuarios_data_science ^ usuarios_machine_learning"
      ],
      "metadata": {
        "colab": {
          "base_uri": "https://localhost:8080/"
        },
        "id": "5d6XPUXJ4leK",
        "outputId": "fdb66820-58bc-4c9b-ba5a-413c97d7f483"
      },
      "execution_count": 24,
      "outputs": [
        {
          "output_type": "execute_result",
          "data": {
            "text/plain": [
              "{13, 15, 42, 43}"
            ]
          },
          "metadata": {},
          "execution_count": 24
        }
      ]
    },
    {
      "cell_type": "code",
      "source": [
        "usuarios = {1, 4, 6, 25, 36, 45, 88}\n",
        "len(usuarios)"
      ],
      "metadata": {
        "colab": {
          "base_uri": "https://localhost:8080/"
        },
        "id": "cpSEDjfA5Bp-",
        "outputId": "281a0196-5af3-484a-f48d-a1261747261d"
      },
      "execution_count": 26,
      "outputs": [
        {
          "output_type": "execute_result",
          "data": {
            "text/plain": [
              "7"
            ]
          },
          "metadata": {},
          "execution_count": 26
        }
      ]
    },
    {
      "cell_type": "code",
      "source": [
        "usuarios.add(25)\n",
        "len(usuarios)"
      ],
      "metadata": {
        "colab": {
          "base_uri": "https://localhost:8080/"
        },
        "id": "tF5oabe45TGY",
        "outputId": "4837f200-6a6c-4148-ca5e-3809cf186c16"
      },
      "execution_count": 27,
      "outputs": [
        {
          "output_type": "execute_result",
          "data": {
            "text/plain": [
              "7"
            ]
          },
          "metadata": {},
          "execution_count": 27
        }
      ]
    },
    {
      "cell_type": "code",
      "source": [
        "usuarios.add(13)\n",
        "len(usuarios)"
      ],
      "metadata": {
        "colab": {
          "base_uri": "https://localhost:8080/"
        },
        "id": "qBP0MEiD5ciz",
        "outputId": "1bbcc9f3-ca73-4047-c5ee-e5cc997a9c88"
      },
      "execution_count": 28,
      "outputs": [
        {
          "output_type": "execute_result",
          "data": {
            "text/plain": [
              "8"
            ]
          },
          "metadata": {},
          "execution_count": 28
        }
      ]
    },
    {
      "cell_type": "code",
      "source": [
        "usuarios"
      ],
      "metadata": {
        "colab": {
          "base_uri": "https://localhost:8080/"
        },
        "id": "up9AuM5i5iiv",
        "outputId": "538a1d80-54b4-4261-bc05-7de6173f626b"
      },
      "execution_count": 29,
      "outputs": [
        {
          "output_type": "execute_result",
          "data": {
            "text/plain": [
              "{1, 4, 6, 13, 25, 36, 45, 88}"
            ]
          },
          "metadata": {},
          "execution_count": 29
        }
      ]
    },
    {
      "cell_type": "code",
      "source": [
        "usuarios.remove(25)\n",
        "len(usuarios)"
      ],
      "metadata": {
        "colab": {
          "base_uri": "https://localhost:8080/"
        },
        "id": "Zr9fUSMf5liL",
        "outputId": "bbf67dd0-5115-4c83-a0ab-0d9006dacf1e"
      },
      "execution_count": 31,
      "outputs": [
        {
          "output_type": "execute_result",
          "data": {
            "text/plain": [
              "7"
            ]
          },
          "metadata": {},
          "execution_count": 31
        }
      ]
    },
    {
      "cell_type": "code",
      "source": [
        "usuarios"
      ],
      "metadata": {
        "colab": {
          "base_uri": "https://localhost:8080/"
        },
        "id": "P_t_QSXx5vk_",
        "outputId": "10d3f476-0487-491f-a24b-7fa8eec9ed09"
      },
      "execution_count": 32,
      "outputs": [
        {
          "output_type": "execute_result",
          "data": {
            "text/plain": [
              "{1, 4, 6, 13, 36, 45, 88}"
            ]
          },
          "metadata": {},
          "execution_count": 32
        }
      ]
    },
    {
      "cell_type": "code",
      "source": [
        "frozenset ({1, 4, 6, 13, 36, 45, 88})"
      ],
      "metadata": {
        "colab": {
          "base_uri": "https://localhost:8080/"
        },
        "id": "RIRxJ0Bj50Ld",
        "outputId": "3b7e4728-742a-4f6a-c426-5c741ffb6572"
      },
      "execution_count": 33,
      "outputs": [
        {
          "output_type": "execute_result",
          "data": {
            "text/plain": [
              "frozenset({1, 4, 6, 13, 36, 45, 88})"
            ]
          },
          "metadata": {},
          "execution_count": 33
        }
      ]
    },
    {
      "cell_type": "code",
      "source": [
        "meu_texto =\" que dices chica, que dices chico\"\n",
        "meu_texto.split()"
      ],
      "metadata": {
        "colab": {
          "base_uri": "https://localhost:8080/"
        },
        "id": "JbTD1NiA5-_A",
        "outputId": "481d7a34-53b5-4fb9-e764-7b183821b656"
      },
      "execution_count": 40,
      "outputs": [
        {
          "output_type": "execute_result",
          "data": {
            "text/plain": [
              "['que', 'dices', 'chica,', 'que', 'dices', 'chico']"
            ]
          },
          "metadata": {},
          "execution_count": 40
        }
      ]
    },
    {
      "cell_type": "code",
      "source": [
        "set(meu_texto.split())"
      ],
      "metadata": {
        "colab": {
          "base_uri": "https://localhost:8080/"
        },
        "id": "k7lBsRBu6ZIQ",
        "outputId": "5210ac44-f4df-4dd6-857f-1b4f6d3fbb5b"
      },
      "execution_count": 39,
      "outputs": [
        {
          "output_type": "execute_result",
          "data": {
            "text/plain": [
              "{'Chica,', 'chico', 'dices', 'que'}"
            ]
          },
          "metadata": {},
          "execution_count": 39
        }
      ]
    },
    {
      "cell_type": "markdown",
      "source": [
        "**Mapa**"
      ],
      "metadata": {
        "id": "wimz7NoU8dFP"
      }
    },
    {
      "cell_type": "code",
      "source": [
        "aparicoes = {\n",
        "  \"que\" : 2,\n",
        "  \"dices\" : 2,\n",
        "  \"chica\" : 1,\n",
        "  \"chico\" : 1\n",
        "}"
      ],
      "metadata": {
        "id": "AXmSDx6n8IQx"
      },
      "execution_count": 42,
      "outputs": []
    },
    {
      "cell_type": "code",
      "source": [
        "type(aparicoes)"
      ],
      "metadata": {
        "colab": {
          "base_uri": "https://localhost:8080/"
        },
        "id": "MZOAosCm8_-2",
        "outputId": "fe5eddde-0f7e-444e-d257-24766d36a3b3"
      },
      "execution_count": 43,
      "outputs": [
        {
          "output_type": "execute_result",
          "data": {
            "text/plain": [
              "dict"
            ]
          },
          "metadata": {},
          "execution_count": 43
        }
      ]
    },
    {
      "cell_type": "code",
      "source": [
        "aparicoes[\"chica\"]"
      ],
      "metadata": {
        "colab": {
          "base_uri": "https://localhost:8080/"
        },
        "id": "xob5rZvq9IXs",
        "outputId": "cfd0c301-6efe-45a2-f57b-e9b95e458d7a"
      },
      "execution_count": 44,
      "outputs": [
        {
          "output_type": "execute_result",
          "data": {
            "text/plain": [
              "1"
            ]
          },
          "metadata": {},
          "execution_count": 44
        }
      ]
    },
    {
      "cell_type": "code",
      "source": [
        "aparicoes[\"que\"]"
      ],
      "metadata": {
        "colab": {
          "base_uri": "https://localhost:8080/"
        },
        "id": "MgUxiUdy9MFd",
        "outputId": "37dca34f-e111-44b5-d6b9-8bd14be91e4b"
      },
      "execution_count": 45,
      "outputs": [
        {
          "output_type": "execute_result",
          "data": {
            "text/plain": [
              "2"
            ]
          },
          "metadata": {},
          "execution_count": 45
        }
      ]
    },
    {
      "cell_type": "code",
      "source": [
        "aparicoes = dict(que = 2, chica = 1)\n",
        "aparicoes"
      ],
      "metadata": {
        "colab": {
          "base_uri": "https://localhost:8080/"
        },
        "id": "n3I0XLcq9PPS",
        "outputId": "a3581879-7dad-4e25-c87a-01e2f1d17e1a"
      },
      "execution_count": 51,
      "outputs": [
        {
          "output_type": "execute_result",
          "data": {
            "text/plain": [
              "{'chica': 1, 'que': 2}"
            ]
          },
          "metadata": {},
          "execution_count": 51
        }
      ]
    },
    {
      "cell_type": "code",
      "source": [
        "aparicoes = {\n",
        "  \"que\" : 2,\n",
        "  \"dices\" : 2,\n",
        "  \"chica\" : 1,\n",
        "  \"chico\" : 1\n",
        "}"
      ],
      "metadata": {
        "id": "MjCZpYNJ-Am3"
      },
      "execution_count": 54,
      "outputs": []
    },
    {
      "cell_type": "code",
      "source": [
        "aparicoes[\"ROSALIA\"] = 1"
      ],
      "metadata": {
        "id": "8lTMD_Yk-EBo"
      },
      "execution_count": 55,
      "outputs": []
    },
    {
      "cell_type": "code",
      "source": [
        "aparicoes"
      ],
      "metadata": {
        "colab": {
          "base_uri": "https://localhost:8080/"
        },
        "id": "BbuEhZLJ-OOt",
        "outputId": "e43fa74a-23e0-4f2b-818f-f1d16434561b"
      },
      "execution_count": 56,
      "outputs": [
        {
          "output_type": "execute_result",
          "data": {
            "text/plain": [
              "{'ROSALIA': 1, 'chica': 1, 'chico': 1, 'dices': 2, 'que': 2}"
            ]
          },
          "metadata": {},
          "execution_count": 56
        }
      ]
    },
    {
      "cell_type": "code",
      "source": [
        "del aparicoes [\"chico\"]"
      ],
      "metadata": {
        "id": "FUB-KxDn-M-5"
      },
      "execution_count": 58,
      "outputs": []
    },
    {
      "cell_type": "code",
      "source": [
        "\"ROSALIA\" in aparicoes"
      ],
      "metadata": {
        "colab": {
          "base_uri": "https://localhost:8080/"
        },
        "id": "4T995167-mVP",
        "outputId": "13547030-1e44-4305-8ba3-415b2999b91a"
      },
      "execution_count": 59,
      "outputs": [
        {
          "output_type": "execute_result",
          "data": {
            "text/plain": [
              "True"
            ]
          },
          "metadata": {},
          "execution_count": 59
        }
      ]
    },
    {
      "cell_type": "code",
      "source": [
        "for elemento in aparicoes:\n",
        "  print(elemento)"
      ],
      "metadata": {
        "colab": {
          "base_uri": "https://localhost:8080/"
        },
        "id": "NWXJAz5i-tkW",
        "outputId": "ee7b33b0-8143-4ad3-8991-cc6ab7c561d7"
      },
      "execution_count": 60,
      "outputs": [
        {
          "output_type": "stream",
          "name": "stdout",
          "text": [
            "que\n",
            "dices\n",
            "chica\n",
            "ROSALIA\n"
          ]
        }
      ]
    },
    {
      "cell_type": "code",
      "source": [
        "for elemento in aparicoes.keys():\n",
        "  print(elemento)"
      ],
      "metadata": {
        "colab": {
          "base_uri": "https://localhost:8080/"
        },
        "id": "g8MLCpuz-23s",
        "outputId": "6f279b6e-a3bc-40f8-e3b6-333225fa19b8"
      },
      "execution_count": 62,
      "outputs": [
        {
          "output_type": "stream",
          "name": "stdout",
          "text": [
            "que\n",
            "dices\n",
            "chica\n",
            "ROSALIA\n"
          ]
        }
      ]
    },
    {
      "cell_type": "code",
      "source": [
        "1 in aparicoes.values()"
      ],
      "metadata": {
        "colab": {
          "base_uri": "https://localhost:8080/"
        },
        "id": "3m-lOjxs_Faw",
        "outputId": "4d1a4d56-28be-4659-81a7-fa2d6f3d8fc1"
      },
      "execution_count": 63,
      "outputs": [
        {
          "output_type": "execute_result",
          "data": {
            "text/plain": [
              "True"
            ]
          },
          "metadata": {},
          "execution_count": 63
        }
      ]
    },
    {
      "cell_type": "code",
      "source": [
        "for elemento in aparicoes.keys():\n",
        "  valor = aparicoes[elemento]\n",
        "  print(valor, elemento)"
      ],
      "metadata": {
        "colab": {
          "base_uri": "https://localhost:8080/"
        },
        "id": "-kBJE7gb_MVy",
        "outputId": "0bdfb5c0-0465-4981-9e94-f95ecfb7a0bf"
      },
      "execution_count": 65,
      "outputs": [
        {
          "output_type": "stream",
          "name": "stdout",
          "text": [
            "2 que\n",
            "2 dices\n",
            "1 chica\n",
            "1 ROSALIA\n"
          ]
        }
      ]
    },
    {
      "cell_type": "code",
      "source": [
        "for elemento in aparicoes.items():\n",
        "  print(elemento)"
      ],
      "metadata": {
        "colab": {
          "base_uri": "https://localhost:8080/"
        },
        "id": "HF9nvkY2_lsq",
        "outputId": "cbcdab49-c63d-42e5-ca2a-26502d899cfc"
      },
      "execution_count": 66,
      "outputs": [
        {
          "output_type": "stream",
          "name": "stdout",
          "text": [
            "('que', 2)\n",
            "('dices', 2)\n",
            "('chica', 1)\n",
            "('ROSALIA', 1)\n"
          ]
        }
      ]
    },
    {
      "cell_type": "code",
      "source": [
        "for chave, valor in aparicoes.items():\n",
        " print(chave, \"=\", valor)"
      ],
      "metadata": {
        "colab": {
          "base_uri": "https://localhost:8080/"
        },
        "id": "EHSwINHg_y7V",
        "outputId": "bf946dd8-de4e-40c6-ccf5-6d3eeb47edc2"
      },
      "execution_count": 68,
      "outputs": [
        {
          "output_type": "stream",
          "name": "stdout",
          "text": [
            "que = 2\n",
            "dices = 2\n",
            "chica = 1\n",
            "ROSALIA = 1\n"
          ]
        }
      ]
    },
    {
      "cell_type": "code",
      "source": [
        "[\"palavra {}\" .format(chave) for chave in aparicoes.keys()]"
      ],
      "metadata": {
        "colab": {
          "base_uri": "https://localhost:8080/"
        },
        "id": "TOcvx2cDAPyU",
        "outputId": "2da3d556-7a74-409f-cfb6-cfd64bcf7c5d"
      },
      "execution_count": 70,
      "outputs": [
        {
          "output_type": "execute_result",
          "data": {
            "text/plain": [
              "['palavra que', 'palavra dices', 'palavra chica', 'palavra ROSALIA']"
            ]
          },
          "metadata": {},
          "execution_count": 70
        }
      ]
    },
    {
      "cell_type": "code",
      "source": [
        "meu_texto =\" Que dices chica, que dices chico, ROSALIA\"\n"
      ],
      "metadata": {
        "id": "G4LOZBakAPkG"
      },
      "execution_count": 74,
      "outputs": []
    },
    {
      "cell_type": "code",
      "source": [
        "meu_texto =\" Que dices chica, que dices chico, ROSALIA\"\n",
        "meu_texto = meu_texto.lower()\n",
        "\n",
        "aparicoes = {}\n",
        "\n",
        "for palavra in meu_texto.split():\n",
        "  ate_agora = aparicoes.get(palavra, 0)\n",
        "  aparicoes[palavra] = ate_agora + 1\n",
        "  \n",
        "aparicoes"
      ],
      "metadata": {
        "colab": {
          "base_uri": "https://localhost:8080/"
        },
        "id": "jUPgPR0kB4qU",
        "outputId": "9c71a02d-99fb-4fb6-880a-6fec7f251983"
      },
      "execution_count": 76,
      "outputs": [
        {
          "output_type": "execute_result",
          "data": {
            "text/plain": [
              "{'chica,': 1, 'chico,': 1, 'dices': 2, 'que': 2, 'rosalia': 1}"
            ]
          },
          "metadata": {},
          "execution_count": 76
        }
      ]
    },
    {
      "cell_type": "code",
      "source": [
        "from collections import defaultdict\n",
        "\n",
        "aparicoes = defaultdict(int)\n",
        "\n",
        "for palavra in meu_texto.split():\n",
        "  ate_agora = aparicoes[palavra]\n",
        "  aparicoes[palavra] = ate_agora + 1\n",
        "  \n",
        "aparicoes\n",
        "\n"
      ],
      "metadata": {
        "colab": {
          "base_uri": "https://localhost:8080/"
        },
        "id": "sevvr3ipCJcO",
        "outputId": "9836bbc6-0ffb-48d5-e6f1-0a1dc189462f"
      },
      "execution_count": 92,
      "outputs": [
        {
          "output_type": "execute_result",
          "data": {
            "text/plain": [
              "defaultdict(int,\n",
              "            {'chica,': 1, 'chico,': 1, 'dices': 2, 'que': 2, 'rosalia': 1})"
            ]
          },
          "metadata": {},
          "execution_count": 92
        }
      ]
    },
    {
      "cell_type": "code",
      "source": [
        "int()"
      ],
      "metadata": {
        "colab": {
          "base_uri": "https://localhost:8080/"
        },
        "id": "Eif_pKbaCiJU",
        "outputId": "653a323d-ad5a-4a63-8227-6fdec41c5146"
      },
      "execution_count": 90,
      "outputs": [
        {
          "output_type": "execute_result",
          "data": {
            "text/plain": [
              "0"
            ]
          },
          "metadata": {},
          "execution_count": 90
        }
      ]
    },
    {
      "cell_type": "code",
      "source": [
        "from collections import defaultdict\n",
        "\n",
        "aparicoes = defaultdict(int)\n",
        "\n",
        "for palavra in meu_texto.split():\n",
        "  aparicoes[palavra] =+ 1\n",
        "  \n",
        "aparicoes"
      ],
      "metadata": {
        "colab": {
          "base_uri": "https://localhost:8080/"
        },
        "id": "UThYPb6HDuhn",
        "outputId": "41c3a75d-ad0d-4eca-8466-1a394656786b"
      },
      "execution_count": 95,
      "outputs": [
        {
          "output_type": "execute_result",
          "data": {
            "text/plain": [
              "defaultdict(int,\n",
              "            {'chica,': 1, 'chico,': 1, 'dices': 1, 'que': 1, 'rosalia': 1})"
            ]
          },
          "metadata": {},
          "execution_count": 95
        }
      ]
    },
    {
      "cell_type": "code",
      "source": [
        "class Conta:\n",
        "  def __init__(self):\n",
        "    print(\"Imprimindo uma conta\")"
      ],
      "metadata": {
        "id": "cbB1J4GkELO9"
      },
      "execution_count": 96,
      "outputs": []
    },
    {
      "cell_type": "code",
      "source": [
        "contas = defaultdict(Conta)\n",
        "contas[15]"
      ],
      "metadata": {
        "colab": {
          "base_uri": "https://localhost:8080/"
        },
        "id": "y5RkZpbiEdlb",
        "outputId": "665dc263-2479-47ea-b69c-4742b06808b6"
      },
      "execution_count": 97,
      "outputs": [
        {
          "output_type": "stream",
          "name": "stdout",
          "text": [
            "Imprimindo uma conta\n"
          ]
        },
        {
          "output_type": "execute_result",
          "data": {
            "text/plain": [
              "<__main__.Conta at 0x7f564a1b1450>"
            ]
          },
          "metadata": {},
          "execution_count": 97
        }
      ]
    },
    {
      "cell_type": "code",
      "source": [
        "contas[13]"
      ],
      "metadata": {
        "colab": {
          "base_uri": "https://localhost:8080/"
        },
        "id": "hEoQdaX6EoWU",
        "outputId": "f9d900d7-92e7-419b-fb58-d08ceb948f64"
      },
      "execution_count": 98,
      "outputs": [
        {
          "output_type": "stream",
          "name": "stdout",
          "text": [
            "Imprimindo uma conta\n"
          ]
        },
        {
          "output_type": "execute_result",
          "data": {
            "text/plain": [
              "<__main__.Conta at 0x7f564a1e3890>"
            ]
          },
          "metadata": {},
          "execution_count": 98
        }
      ]
    },
    {
      "cell_type": "code",
      "source": [
        "contas[44]"
      ],
      "metadata": {
        "colab": {
          "base_uri": "https://localhost:8080/"
        },
        "id": "mg409ouoEs03",
        "outputId": "73c338f7-a603-4251-d560-210443896511"
      },
      "execution_count": 99,
      "outputs": [
        {
          "output_type": "stream",
          "name": "stdout",
          "text": [
            "Imprimindo uma conta\n"
          ]
        },
        {
          "output_type": "execute_result",
          "data": {
            "text/plain": [
              "<__main__.Conta at 0x7f564a1e7190>"
            ]
          },
          "metadata": {},
          "execution_count": 99
        }
      ]
    },
    {
      "cell_type": "code",
      "source": [
        "from collections import Counter\n",
        "\n",
        "aparicoes = Counter()\n",
        "\n",
        "for palavra in meu_texto.split():\n",
        "  aparicoes[palavra] =+ 1\n",
        "  \n",
        "aparicoes"
      ],
      "metadata": {
        "colab": {
          "base_uri": "https://localhost:8080/"
        },
        "id": "1g1QQsWUE3rZ",
        "outputId": "7fdd1ed5-928f-4fd2-b169-78c66038476a"
      },
      "execution_count": 100,
      "outputs": [
        {
          "output_type": "execute_result",
          "data": {
            "text/plain": [
              "Counter({'chica,': 1, 'chico,': 1, 'dices': 1, 'que': 1, 'rosalia': 1})"
            ]
          },
          "metadata": {},
          "execution_count": 100
        }
      ]
    },
    {
      "cell_type": "code",
      "source": [
        "aparicoes = Counter(meu_texto.split())\n",
        "  \n",
        "aparicoes"
      ],
      "metadata": {
        "colab": {
          "base_uri": "https://localhost:8080/"
        },
        "id": "CcL-wQhjFTgN",
        "outputId": "5d0d7502-5102-4bbe-e5d0-9650a25e12e5"
      },
      "execution_count": 101,
      "outputs": [
        {
          "output_type": "execute_result",
          "data": {
            "text/plain": [
              "Counter({'chica,': 1, 'chico,': 1, 'dices': 2, 'que': 2, 'rosalia': 1})"
            ]
          },
          "metadata": {},
          "execution_count": 101
        }
      ]
    },
    {
      "cell_type": "markdown",
      "source": [
        "#TESTANDO o uso de diversas coleções"
      ],
      "metadata": {
        "id": "tZZLDTM9FuqZ"
      }
    },
    {
      "cell_type": "code",
      "source": [
        "texto1 = \"\"\"\n",
        "Hoje iremos falar sobre dois conceitos que são muitas vezes mal compreendidos, são eles: o B2B e B2C. Mas o que significa essas siglas?\n",
        "B2B – Business to Business\n",
        "B2C – Business to Consumer\n",
        "Vamos começar falando sobre o B2C (Business to Cosumer). A ideia do B2C é que você venda direto para pessoas que irão consumir o seu produto ou serviço. Por exemplo, se você tem uma loja de roupas, você tem um negócio B2C, porque você está vendendo para pessoas que experimentam seus produtos, vestem e usam os mesmos. Entretanto, o que é importante entendermos, é que na maioria das vezes as empresas acreditam que apenas negócios B2C conseguem fazer grandes anúncios. O que não é verdade, pois o B2B também pode utilizar destas estratégias para venderem mais. A ideia do B2B (Business to Business), é que você seja uma empresa que vende seu produto ou serviço para outra empresa e não para o consumidor final.\n",
        "\n",
        "\"\"\""
      ],
      "metadata": {
        "id": "4B6zKMF9GJKl"
      },
      "execution_count": 102,
      "outputs": []
    },
    {
      "cell_type": "code",
      "source": [
        "texto2 = \"\"\"\n",
        "A metodologia DevOps é uma abordagem de cultura, automação e design de plataforma que tem como objetivo agregar mais valor aos negócios e aumentar sua capacidade de resposta às mudanças por meio de entregas de serviços rápidas e de alta qualidade. Isso tudo é possível por meio da disponibilização de serviços de TI iterativa e rápida. Adotar o DevOps significa conectar aplicações legadas a uma infraestrutura e aplicações modernas e nativas em nuvem.\n",
        "\n",
        "\"\"\""
      ],
      "metadata": {
        "id": "q0K3fWXIGJsn"
      },
      "execution_count": 103,
      "outputs": []
    },
    {
      "cell_type": "code",
      "source": [
        "Counter(texto1.lower())"
      ],
      "metadata": {
        "colab": {
          "base_uri": "https://localhost:8080/"
        },
        "id": "yZkoDI3NHUIb",
        "outputId": "7427dc59-8e18-49ff-b2ea-1082bd9ec43e"
      },
      "execution_count": 104,
      "outputs": [
        {
          "output_type": "execute_result",
          "data": {
            "text/plain": [
              "Counter({'\\n': 6,\n",
              "         ' ': 154,\n",
              "         '(': 2,\n",
              "         ')': 2,\n",
              "         ',': 9,\n",
              "         '.': 7,\n",
              "         '2': 10,\n",
              "         ':': 1,\n",
              "         '?': 1,\n",
              "         'a': 62,\n",
              "         'b': 23,\n",
              "         'c': 25,\n",
              "         'd': 27,\n",
              "         'e': 95,\n",
              "         'f': 5,\n",
              "         'g': 7,\n",
              "         'h': 1,\n",
              "         'i': 39,\n",
              "         'j': 3,\n",
              "         'l': 9,\n",
              "         'm': 35,\n",
              "         'n': 35,\n",
              "         'o': 73,\n",
              "         'p': 23,\n",
              "         'q': 12,\n",
              "         'r': 41,\n",
              "         's': 82,\n",
              "         't': 28,\n",
              "         'u': 39,\n",
              "         'v': 16,\n",
              "         'x': 2,\n",
              "         'z': 4,\n",
              "         'á': 1,\n",
              "         'ã': 5,\n",
              "         'ç': 3,\n",
              "         'é': 7,\n",
              "         'ê': 5,\n",
              "         'ó': 2,\n",
              "         'ú': 1,\n",
              "         '–': 2})"
            ]
          },
          "metadata": {},
          "execution_count": 104
        }
      ]
    },
    {
      "cell_type": "code",
      "source": [
        "Counter(texto2.lower())"
      ],
      "metadata": {
        "colab": {
          "base_uri": "https://localhost:8080/"
        },
        "id": "lkPnJ4NHHxpa",
        "outputId": "36237501-5365-4c6c-ec21-8cb0d6300d2f"
      },
      "execution_count": 106,
      "outputs": [
        {
          "output_type": "execute_result",
          "data": {
            "text/plain": [
              "Counter({'\\n': 3,\n",
              "         ' ': 72,\n",
              "         ',': 1,\n",
              "         '.': 3,\n",
              "         'a': 53,\n",
              "         'b': 3,\n",
              "         'c': 10,\n",
              "         'd': 26,\n",
              "         'e': 44,\n",
              "         'f': 3,\n",
              "         'g': 9,\n",
              "         'i': 28,\n",
              "         'j': 1,\n",
              "         'l': 11,\n",
              "         'm': 16,\n",
              "         'n': 12,\n",
              "         'o': 32,\n",
              "         'p': 13,\n",
              "         'q': 2,\n",
              "         'r': 22,\n",
              "         's': 29,\n",
              "         't': 19,\n",
              "         'u': 14,\n",
              "         'v': 10,\n",
              "         'z': 1,\n",
              "         'à': 1,\n",
              "         'á': 2,\n",
              "         'ã': 2,\n",
              "         'ç': 7,\n",
              "         'é': 2,\n",
              "         'í': 1,\n",
              "         'ó': 1,\n",
              "         'õ': 2})"
            ]
          },
          "metadata": {},
          "execution_count": 106
        }
      ]
    },
    {
      "cell_type": "code",
      "source": [
        "aparicoes = Counter(texto1.lower())\n",
        "sum(aparicoes.values())"
      ],
      "metadata": {
        "colab": {
          "base_uri": "https://localhost:8080/"
        },
        "id": "KpYWIp0TH5vL",
        "outputId": "a2a39d2f-b4b7-4532-f6a7-c2354c0a1fbc"
      },
      "execution_count": 108,
      "outputs": [
        {
          "output_type": "execute_result",
          "data": {
            "text/plain": [
              "904"
            ]
          },
          "metadata": {},
          "execution_count": 108
        }
      ]
    },
    {
      "cell_type": "code",
      "source": [
        "aparicoes = Counter(texto1.lower())\n",
        "total_de_caracteres = sum(aparicoes.values())\n",
        "for letra, frequencia in aparicoes.items():\n",
        "  tupla = (letra, frequencia / total_de_caracteres)\n",
        "  print(tupla)"
      ],
      "metadata": {
        "colab": {
          "base_uri": "https://localhost:8080/"
        },
        "id": "zx9GbE6jIN7I",
        "outputId": "ee8cee96-6f6c-4e16-d4fa-f223bae2ed68"
      },
      "execution_count": 112,
      "outputs": [
        {
          "output_type": "stream",
          "name": "stdout",
          "text": [
            "('\\n', 0.00663716814159292)\n",
            "('h', 0.0011061946902654867)\n",
            "('o', 0.08075221238938053)\n",
            "('j', 0.00331858407079646)\n",
            "('e', 0.10508849557522124)\n",
            "(' ', 0.17035398230088494)\n",
            "('i', 0.04314159292035398)\n",
            "('r', 0.04535398230088496)\n",
            "('m', 0.03871681415929203)\n",
            "('s', 0.09070796460176991)\n",
            "('f', 0.0055309734513274336)\n",
            "('a', 0.06858407079646017)\n",
            "('l', 0.00995575221238938)\n",
            "('b', 0.025442477876106196)\n",
            "('d', 0.029867256637168143)\n",
            "('c', 0.02765486725663717)\n",
            "('n', 0.03871681415929203)\n",
            "('t', 0.030973451327433628)\n",
            "('q', 0.01327433628318584)\n",
            "('u', 0.04314159292035398)\n",
            "('ã', 0.0055309734513274336)\n",
            "('v', 0.017699115044247787)\n",
            "('z', 0.004424778761061947)\n",
            "('p', 0.025442477876106196)\n",
            "(',', 0.00995575221238938)\n",
            "(':', 0.0011061946902654867)\n",
            "('2', 0.011061946902654867)\n",
            "('.', 0.007743362831858407)\n",
            "('g', 0.007743362831858407)\n",
            "('?', 0.0011061946902654867)\n",
            "('–', 0.0022123893805309734)\n",
            "('ç', 0.00331858407079646)\n",
            "('(', 0.0022123893805309734)\n",
            "(')', 0.0022123893805309734)\n",
            "('é', 0.007743362831858407)\n",
            "('ê', 0.0055309734513274336)\n",
            "('x', 0.0022123893805309734)\n",
            "('ó', 0.0022123893805309734)\n",
            "('á', 0.0011061946902654867)\n",
            "('ú', 0.0011061946902654867)\n"
          ]
        }
      ]
    },
    {
      "cell_type": "code",
      "source": [
        "\n",
        "aparicoes = Counter(texto1.lower())\n",
        "total_de_caracteres = sum(aparicoes.values())\n",
        "\n",
        "proporcoes = [(letra, frequencia / total_de_caracteres) for letra, frequencia in aparicoes.items()]\n",
        "proporcoes = Counter(dict(proporcoes))\n",
        "proporcoes.most_common(10)"
      ],
      "metadata": {
        "colab": {
          "base_uri": "https://localhost:8080/"
        },
        "id": "yKDLZVEDJBrx",
        "outputId": "dab22710-7f86-4877-b029-8fed11eb701d"
      },
      "execution_count": 123,
      "outputs": [
        {
          "output_type": "execute_result",
          "data": {
            "text/plain": [
              "[(' ', 0.17035398230088494),\n",
              " ('e', 0.10508849557522124),\n",
              " ('s', 0.09070796460176991),\n",
              " ('o', 0.08075221238938053),\n",
              " ('a', 0.06858407079646017),\n",
              " ('r', 0.04535398230088496),\n",
              " ('i', 0.04314159292035398),\n",
              " ('u', 0.04314159292035398),\n",
              " ('m', 0.03871681415929203),\n",
              " ('n', 0.03871681415929203)]"
            ]
          },
          "metadata": {},
          "execution_count": 123
        }
      ]
    },
    {
      "cell_type": "code",
      "source": [
        "def analista_frenquencia_de_letras(texto):\n",
        "  aparicoes = Counter(texto.lower())  \n",
        "  total_de_caracteres = sum(aparicoes.values())\n",
        "\n",
        "  proporcoes = [(letra, frequencia / total_de_caracteres) for letra, frequencia in aparicoes.items()]\n",
        "  proporcoes = Counter(dict(proporcoes))\n",
        "  mais_comuns = proporcoes.most_common(10)\n",
        "  for caractere, proporcao in mais_comuns:\n",
        "    print(\"{} => {:.2f}%\".format(caractere, proporcao * 100))"
      ],
      "metadata": {
        "id": "SVZrlcwyKNuP"
      },
      "execution_count": 143,
      "outputs": []
    },
    {
      "cell_type": "code",
      "source": [
        "analista_frenquencia_de_letras(texto1)"
      ],
      "metadata": {
        "colab": {
          "base_uri": "https://localhost:8080/"
        },
        "id": "SBewIOOMKQDX",
        "outputId": "4a664975-2228-45af-b51d-1bfc8af584e3"
      },
      "execution_count": 144,
      "outputs": [
        {
          "output_type": "stream",
          "name": "stdout",
          "text": [
            "  => 17.04%\n",
            "e => 10.51%\n",
            "s => 9.07%\n",
            "o => 8.08%\n",
            "a => 6.86%\n",
            "r => 4.54%\n",
            "i => 4.31%\n",
            "u => 4.31%\n",
            "m => 3.87%\n",
            "n => 3.87%\n"
          ]
        }
      ]
    },
    {
      "cell_type": "code",
      "source": [
        "analista_frenquencia_de_letras(texto2)"
      ],
      "metadata": {
        "colab": {
          "base_uri": "https://localhost:8080/"
        },
        "id": "MCCNhnGcNYYv",
        "outputId": "58b9cdd7-40b3-4e84-9087-7f42bbf618b1"
      },
      "execution_count": 145,
      "outputs": [
        {
          "output_type": "stream",
          "name": "stdout",
          "text": [
            "  => 15.82%\n",
            "a => 11.65%\n",
            "e => 9.67%\n",
            "o => 7.03%\n",
            "s => 6.37%\n",
            "i => 6.15%\n",
            "d => 5.71%\n",
            "r => 4.84%\n",
            "t => 4.18%\n",
            "m => 3.52%\n"
          ]
        }
      ]
    }
  ]
}